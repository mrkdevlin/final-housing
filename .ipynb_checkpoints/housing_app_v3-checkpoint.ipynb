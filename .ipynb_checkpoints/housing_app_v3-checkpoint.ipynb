{
 "cells": [
  {
   "cell_type": "code",
   "execution_count": 3,
   "id": "e9e1fd54",
   "metadata": {},
   "outputs": [],
   "source": [
    "import pandas as pd\n",
    "import ipywidgets as widgets\n",
    "import IPython\n",
    "from IPython import *\n",
    "from ipywidgets import TwoByTwoLayout, GridspecLayout\n",
    "import sklearn\n",
    "from sklearn import *\n",
    "import matplotlib.pyplot as plt\n",
    "import seaborn as sns\n",
    "import numpy as np\n",
    "\n",
    "longitude = widgets.FloatSlider(\n",
    "    value=-121,\n",
    "    min=-122,\n",
    "    max=-120,\n",
    "    step=0.1,\n",
    "    description='Longitude:',\n",
    "    disabled=False,\n",
    "    continuous_update=True,\n",
    "    orientation='horizontal',\n",
    "    readout=True,\n",
    "    readout_format='.1f',\n",
    ")\n",
    "\n",
    "latitude = widgets.FloatSlider(\n",
    "    value=38,\n",
    "    min=37,\n",
    "    max=39,\n",
    "    step=0.1,\n",
    "    description='Latitude:',\n",
    "    disabled=False,\n",
    "    continuous_update=True,\n",
    "    orientation='horizontal',\n",
    "    readout=True,\n",
    "    readout_format='.1f',\n",
    ")\n",
    "\n",
    "file = open(\"plot.png\", \"rb\")\n",
    "image = file.read()\n",
    "plot_image= widgets.Image(\n",
    "    value=image,\n",
    "    format='png',\n",
    "    width='800',\n",
    "    height='1000',\n",
    ")"
   ]
  },
  {
   "cell_type": "code",
   "execution_count": 4,
   "id": "9f58cdff",
   "metadata": {
    "scrolled": true
   },
   "outputs": [],
   "source": [
    "df = pd.read_csv(\"housing.csv\")"
   ]
  },
  {
   "cell_type": "code",
   "execution_count": null,
   "id": "e70775f7",
   "metadata": {},
   "outputs": [],
   "source": [
    "from IPython.display import display, clear_output\n",
    "button = widgets.Button(description=\"Predict House Price\", align='start')\n",
    "output = widgets.Output()\n",
    "\n",
    "def on_button_clicked(b):\n",
    "    with output:\n",
    "        columns = ['longitude', 'latitude']\n",
    "        sample = pd.DataFrame([[longitude.value, latitude.value]],\n",
    "                        columns = columns )\n",
    "        location = sc_X.transform(sample)\n",
    "        rfpredictor = df_rfmodel.predict(location)\n",
    "        print(\"The price of the house: ${0:.2f}\".format(rfpredictor[0]))\n",
    "        clear_output(wait=True)\n",
    "\n",
    "button.on_click(on_button_clicked)"
   ]
  },
  {
   "cell_type": "markdown",
   "id": "44083025",
   "metadata": {},
   "source": [
    "# California House Price Predictor\n",
    "***\n",
    "<br>\n",
    "To use the application below:<br> <br>\n",
    "1) Move the sliders to the latitude and longitude of the house (use the image as a reference)<br> <br>\n",
    "2) Next, click the \"Predict House Price\" button and the estimated house price will be displayed \n",
    "\n",
    "<br><br>"
   ]
  },
  {
   "cell_type": "code",
   "execution_count": null,
   "id": "6fb74820",
   "metadata": {
    "scrolled": true
   },
   "outputs": [],
   "source": [
    "grid = GridspecLayout(10, 2)\n",
    "\n",
    "grid[:, 1 ] = plot_image\n",
    "grid[1, 0] = latitude\n",
    "grid[2, 0] = longitude\n",
    "grid[4, 0] = button\n",
    "grid[5, 0] = output\n",
    "\n",
    "grid"
   ]
  },
  {
   "cell_type": "markdown",
   "id": "7a9e946e",
   "metadata": {},
   "source": [
    "## Cleaning the dataset\n",
    "***"
   ]
  },
  {
   "cell_type": "code",
   "execution_count": null,
   "id": "e874ed0e",
   "metadata": {},
   "outputs": [],
   "source": [
    "df = df.drop([\"total_bedrooms\"], axis = 1)"
   ]
  },
  {
   "cell_type": "markdown",
   "id": "7147e7a7",
   "metadata": {},
   "source": [
    "## Building the Machine Learning Model\n",
    "***"
   ]
  },
  {
   "cell_type": "code",
   "execution_count": null,
   "id": "4fd427ab",
   "metadata": {},
   "outputs": [],
   "source": [
    "from sklearn.model_selection import train_test_split\n",
    "y = df.median_house_value\n",
    "features = ['longitude', 'latitude']\n",
    "X = df[features]\n",
    "X_train , X_test, y_train, y_test = train_test_split(X, y, test_size = 0.3, random_state = 0)\n",
    "\n",
    "from sklearn.preprocessing import StandardScaler\n",
    "sc_X = StandardScaler()\n",
    "X_train = sc_X.fit_transform(X_train)\n",
    "X_test = sc_X.transform(X_test)"
   ]
  },
  {
   "cell_type": "markdown",
   "id": "668779da",
   "metadata": {},
   "source": [
    "## Exploratory Data Analysis\n",
    "***"
   ]
  },
  {
   "cell_type": "code",
   "execution_count": null,
   "id": "b734afac",
   "metadata": {},
   "outputs": [],
   "source": [
    "from sklearn.linear_model import LinearRegression\n",
    "\n",
    "df_lrmodel = LinearRegression()\n",
    "df_lrmodel.fit(X_train, y_train)\n",
    "# Predicting the Test set results\n",
    "y_lrpred = df_lrmodel.predict(X_test)"
   ]
  },
  {
   "cell_type": "code",
   "execution_count": null,
   "id": "8a742475",
   "metadata": {},
   "outputs": [],
   "source": [
    "from sklearn.ensemble import RandomForestRegressor\n",
    "\n",
    "df_rfmodel = RandomForestRegressor(n_estimators=20, random_state = 0)\n",
    "df_rfmodel.fit(X_train, y_train)\n",
    "y_rfpred = df_rfmodel.predict(X_test)"
   ]
  },
  {
   "cell_type": "code",
   "execution_count": null,
   "id": "ddff67a9",
   "metadata": {},
   "outputs": [],
   "source": [
    "# Calculate Adjusted R Squared Value\n",
    "from sklearn import metrics\n",
    "lr_R = metrics.r2_score(y_test,y_rfpred)\n",
    "lr_a_R = 1 - (1-lr_R)*(len(y_test)-1)/(len(y_test)-X_test.shape[1]-1)\n",
    "print('Adjusted R Squared Value for Linear Regression: ', round(lr_a_R, 3) )\n",
    "\n",
    "rf_R = metrics.r2_score(y_test,y_rfpred)\n",
    "rf_a_R = 1 - (1-rf_R)*(len(y_test)-1)/(len(y_test)-X_test.shape[1]-1)\n",
    "print('Adjusted R Squared Value for Random Forest: ', round(rf_a_R, 3) )"
   ]
  },
  {
   "cell_type": "code",
   "execution_count": null,
   "id": "73bbe12c",
   "metadata": {},
   "outputs": [],
   "source": [
    "plt.figure(figsize = (14,8))\n",
    "plt.title(\"Median House Values vs Median Income\", fontsize = 20, fontweight = 'bold')\n",
    "sns.scatterplot(data = df, y = 'median_house_value', x = 'median_income', alpha = 0.5, color = 'darkgreen')\n",
    "plt.ylabel(\"Median House Value (USD)\", fontsize = '15')\n",
    "plt.xlabel(\"Median Income (Thousand of USD)\", fontsize = '15');"
   ]
  },
  {
   "cell_type": "markdown",
   "id": "edc00225",
   "metadata": {},
   "source": [
    "## Visualizing the Data"
   ]
  },
  {
   "cell_type": "code",
   "execution_count": null,
   "id": "411eed5f",
   "metadata": {},
   "outputs": [],
   "source": [
    "housing = pd.read_csv(\"housing.csv\")\n",
    "housing.hist(bins=50, figsize=(15,15))\n",
    "plt.show()"
   ]
  },
  {
   "cell_type": "markdown",
   "id": "9170c3b7",
   "metadata": {},
   "source": [
    "## Visualizing the highest correlation"
   ]
  },
  {
   "cell_type": "code",
   "execution_count": null,
   "id": "af08055b",
   "metadata": {
    "scrolled": true
   },
   "outputs": [],
   "source": [
    "housing.plot(kind='scatter', x='median_income', y='median_house_value',\n",
    "            alpha=0.1, figsize=(9,6))"
   ]
  },
  {
   "cell_type": "markdown",
   "id": "670db951",
   "metadata": {},
   "source": [
    "### Correlation matrix of the dataset"
   ]
  },
  {
   "cell_type": "code",
   "execution_count": null,
   "id": "44f73694",
   "metadata": {},
   "outputs": [],
   "source": [
    "corr_matrix = housing.corr()\n",
    "corr_matrix['median_house_value'].sort_values(ascending=False)"
   ]
  },
  {
   "cell_type": "code",
   "execution_count": null,
   "id": "deaab4b6",
   "metadata": {},
   "outputs": [],
   "source": [
    "## Checking the correlation matrix\n",
    "corr_mat = housing.corr().round(2)\n",
    "f, ax = plt.subplots(figsize=(7,7))\n",
    "mask = np.zeros_like(corr_mat,dtype=bool)\n",
    "mask[np.triu_indices_from(mask)] = True\n",
    "sns.heatmap(corr_mat,mask=mask,vmin=-1,vmax=1,center=0, \n",
    " cmap='RdYlBu',square=False,lw=2,annot=True,cbar=False);\n",
    "plt.title(\"Correlation Matrix\", fontsize = 18, fontweight = 'bold')\n",
    "plt.show()"
   ]
  },
  {
   "cell_type": "code",
   "execution_count": null,
   "id": "4809d6c7",
   "metadata": {},
   "outputs": [],
   "source": []
  },
  {
   "cell_type": "code",
   "execution_count": null,
   "id": "3a350110",
   "metadata": {},
   "outputs": [],
   "source": []
  },
  {
   "cell_type": "code",
   "execution_count": null,
   "id": "3f245075",
   "metadata": {},
   "outputs": [],
   "source": []
  },
  {
   "cell_type": "code",
   "execution_count": null,
   "id": "40edd174",
   "metadata": {},
   "outputs": [],
   "source": []
  },
  {
   "cell_type": "code",
   "execution_count": null,
   "id": "8edcaf4f",
   "metadata": {},
   "outputs": [],
   "source": []
  }
 ],
 "metadata": {
  "kernelspec": {
   "display_name": "Python 3 (ipykernel)",
   "language": "python",
   "name": "python3"
  },
  "language_info": {
   "codemirror_mode": {
    "name": "ipython",
    "version": 3
   },
   "file_extension": ".py",
   "mimetype": "text/x-python",
   "name": "python",
   "nbconvert_exporter": "python",
   "pygments_lexer": "ipython3",
   "version": "3.9.7"
  }
 },
 "nbformat": 4,
 "nbformat_minor": 5
}
