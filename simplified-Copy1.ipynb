{
 "cells": [
  {
   "cell_type": "code",
   "execution_count": 12,
   "id": "e9e1fd54",
   "metadata": {},
   "outputs": [],
   "source": [
    "import pandas as pd\n",
    "import ipywidgets as widgets\n",
    "import IPython\n",
    "from IPython import *\n",
    "from ipywidgets import TwoByTwoLayout, GridspecLayout\n",
    "import sklearn\n"
   ]
  },
  {
   "cell_type": "code",
   "execution_count": 13,
   "id": "9f58cdff",
   "metadata": {
    "scrolled": true
   },
   "outputs": [],
   "source": [
    "df = pd.read_csv(\"housing.csv\")"
   ]
  },
  {
   "cell_type": "code",
   "execution_count": 14,
   "id": "e70775f7",
   "metadata": {},
   "outputs": [],
   "source": [
    "from IPython.display import display, clear_output\n",
    "button = widgets.Button(description=\"Predict House Price\", align='start')\n",
    "output = widgets.Output()\n",
    "\n",
    "def on_button_clicked(b):\n",
    "    with output:\n",
    "        columns = ['longitude', 'latitude']\n",
    "        sample = pd.DataFrame([[longitude.value, latitude.value]],\n",
    "                        columns = columns )\n",
    "        location = sc_X.transform(sample)\n",
    "        rfpredictor = df_rfmodel.predict(location)\n",
    "        print(\"The price of the house: ${0:.2f}\".format(rfpredictor[0]))\n",
    "        clear_output(wait=True)\n",
    "\n",
    "button.on_click(on_button_clicked)\n",
    "\n",
    "longitude = widgets.FloatSlider(\n",
    "    value=-121,\n",
    "    min=-122,\n",
    "    max=-120,\n",
    "    step=0.1,\n",
    "    description='Longitude:',\n",
    "    disabled=False,\n",
    "    continuous_update=True,\n",
    "    orientation='horizontal',\n",
    "    readout=True,\n",
    "    readout_format='.1f',\n",
    ")\n",
    "\n",
    "latitude = widgets.FloatSlider(\n",
    "    value=38,\n",
    "    min=37,\n",
    "    max=39,\n",
    "    step=0.1,\n",
    "    description='Latitude:',\n",
    "    disabled=False,\n",
    "    continuous_update=True,\n",
    "    orientation='horizontal',\n",
    "    readout=True,\n",
    "    readout_format='.1f',\n",
    ")\n",
    "\n",
    "file = open(\"plot.png\", \"rb\")\n",
    "image = file.read()\n",
    "plot_image= widgets.Image(\n",
    "    value=image,\n",
    "    format='png',\n",
    "    width='800',\n",
    "    height='1000',\n",
    ")"
   ]
  },
  {
   "cell_type": "code",
   "execution_count": null,
   "id": "5514b9ea",
   "metadata": {},
   "outputs": [],
   "source": [
    "# California House Price Predictor\n",
    "***\n",
    "<br>\n",
    "To use the application below:<br> <br>\n",
    "1) Move the sliders to the latitude and longitude of the house (use the image as a reference)<br> <br>\n",
    "2) Next, click the \"Predict House Price\" button and the estimated house price will be displayed \n",
    "\n",
    "<br><br>"
   ]
  },
  {
   "cell_type": "code",
   "execution_count": 15,
   "id": "6fb74820",
   "metadata": {
    "scrolled": true
   },
   "outputs": [
    {
     "data": {
      "application/vnd.jupyter.widget-view+json": {
       "model_id": "9ded119f1dc44713a7f7058f7146b7bb",
       "version_major": 2,
       "version_minor": 0
      },
      "text/plain": [
       "GridspecLayout(children=(Image(value=b'\\x89PNG\\r\\n\\x1a\\n\\x00\\x00\\x00\\rIHDR\\x00\\x00\\t\\xc4\\x00\\x00\\x06\\xfa\\x08\\x…"
      ]
     },
     "metadata": {},
     "output_type": "display_data"
    }
   ],
   "source": [
    "grid = GridspecLayout(10, 2)\n",
    "\n",
    "grid[:, 1 ] = plot_image\n",
    "grid[1, 0] = latitude\n",
    "grid[2, 0] = longitude\n",
    "grid[4, 0] = button\n",
    "grid[5, 0] = output\n",
    "\n",
    "grid"
   ]
  },
  {
   "cell_type": "code",
   "execution_count": null,
   "id": "870c7952",
   "metadata": {},
   "outputs": [],
   "source": [
    "## Cleaning the dataset\n",
    "***"
   ]
  },
  {
   "cell_type": "code",
   "execution_count": 16,
   "id": "e874ed0e",
   "metadata": {},
   "outputs": [
    {
     "data": {
      "application/vnd.jupyter.widget-view+json": {
       "model_id": "ad3c1bb284784b52ba7f903f3d7f13e1",
       "version_major": 2,
       "version_minor": 0
      },
      "text/plain": [
       "Image(value=b'\\x89PNG\\r\\n\\x1a\\n\\x00\\x00\\x00\\rIHDR\\x00\\x00\\x04+\\x00\\x00\\x02+\\x08\\x02\\x00\\x00\\x00Iy\\x84<\\x00\\x00…"
      ]
     },
     "metadata": {},
     "output_type": "display_data"
    }
   ],
   "source": [
    "df = df.drop([\"total_bedrooms\"], axis = 1)\n",
    "\n",
    "file = open(\"multi_data.png\", \"rb\")\n",
    "image1 = file.read()\n",
    "multi_image= widgets.Image(\n",
    "    value=image1,\n",
    "    format='png',\n",
    "    width='800',\n",
    "    height='1000',\n",
    ")\n",
    "multi_image\n"
   ]
  },
  {
   "cell_type": "code",
   "execution_count": null,
   "id": "446c8919",
   "metadata": {},
   "outputs": [],
   "source": [
    "## Building the Machine Learning Model\n",
    "***"
   ]
  },
  {
   "cell_type": "code",
   "execution_count": 30,
   "id": "4fd427ab",
   "metadata": {},
   "outputs": [
    {
     "data": {
      "application/vnd.jupyter.widget-view+json": {
       "model_id": "4ea253b5b8bd4c2bbf643a89131a74d0",
       "version_major": 2,
       "version_minor": 0
      },
      "text/plain": [
       "Image(value=b'\\x89PNG\\r\\n\\x1a\\n\\x00\\x00\\x00\\rIHDR\\x00\\x00\\x03\\x18\\x00\\x00\\x01\\xcf\\x08\\x02\\x00\\x00\\x00_\\xbb\\xeb…"
      ]
     },
     "metadata": {},
     "output_type": "display_data"
    }
   ],
   "source": [
    "from sklearn.model_selection import train_test_split\n",
    "y = df.median_house_value\n",
    "features = ['longitude', 'latitude']\n",
    "X = df[features]\n",
    "X_train , X_test, y_train, y_test = train_test_split(X, y, test_size = 0.3, random_state = 0)\n",
    "\n",
    "from sklearn.preprocessing import StandardScaler\n",
    "sc_X = StandardScaler()\n",
    "X_train = sc_X.fit_transform(X_train)\n",
    "X_test = sc_X.transform(X_test)\n",
    "\n",
    "file = open(\"median.png\", \"rb\")\n",
    "image2 = file.read()\n",
    "median= widgets.Image(\n",
    "    value=image2,\n",
    "    format='png',\n",
    "    width='600',\n",
    "    height='800',\n",
    ")\n",
    "median"
   ]
  },
  {
   "cell_type": "code",
   "execution_count": null,
   "id": "c58b9561",
   "metadata": {},
   "outputs": [],
   "source": [
    "housing.plot(kind=\"scatter\", x=\"longitude\", y=\"latitude\", alpha=0.4,\n",
    "            s=housing[\"population\"]/100, label=\"population\", figsize=(10,7),\n",
    "            c=\"median_house_value\", cmap=plt.get_cmap(\"jet\"), colorbar=True, sharex=False)\n",
    "plt.legend()"
   ]
  },
  {
   "cell_type": "code",
   "execution_count": null,
   "id": "3365d0a3",
   "metadata": {},
   "outputs": [],
   "source": [
    "## Checking the correlation matrix\n",
    "corr_mat = housing.corr().round(2)\n",
    "f, ax = plt.subplots(figsize=(7,7))\n",
    "mask = np.zeros_like(corr_mat,dtype=bool)\n",
    "mask[np.triu_indices_from(mask)] = True\n",
    "sns.heatmap(corr_mat,mask=mask,vmin=-1,vmax=1,center=0, \n",
    " cmap='RdYlBu',square=False,lw=2,annot=True,cbar=False);\n",
    "plt.title(\"Correlation Matrix\", fontsize = 18, fontweight = 'bold')\n",
    "plt.show()"
   ]
  },
  {
   "cell_type": "code",
   "execution_count": null,
   "id": "b8098472",
   "metadata": {},
   "outputs": [],
   "source": [
    "corr_matrix = housing.corr()\n",
    "corr_matrix['median_house_value'].sort_values(ascending=False)"
   ]
  },
  {
   "cell_type": "code",
   "execution_count": null,
   "id": "422b73da",
   "metadata": {},
   "outputs": [],
   "source": [
    "housing.plot(kind='scatter', x='median_income', y='median_house_value',\n",
    "            alpha=0.1, figsize=(9,6))"
   ]
  },
  {
   "cell_type": "code",
   "execution_count": null,
   "id": "e0aed1f7",
   "metadata": {},
   "outputs": [],
   "source": [
    "housing = pd.read_csv(\"housing.csv\")\n",
    "housing.hist(bins=50, figsize=(15,15))\n",
    "plt.show()"
   ]
  },
  {
   "cell_type": "code",
   "execution_count": null,
   "id": "2405f658",
   "metadata": {},
   "outputs": [],
   "source": [
    "plt.figure(figsize = (14,8))\n",
    "plt.title(\"Median House Values vs Median Income\", fontsize = 20, fontweight = 'bold')\n",
    "sns.scatterplot(data = df, y = 'median_house_value', x = 'median_income', alpha = 0.5, color = 'darkgreen')\n",
    "plt.ylabel(\"Median House Value (USD)\", fontsize = '15')\n",
    "plt.xlabel(\"Median Income (Thousand of USD)\", fontsize = '15');"
   ]
  },
  {
   "cell_type": "code",
   "execution_count": null,
   "id": "c8d4e9fe",
   "metadata": {},
   "outputs": [],
   "source": [
    "## Exploratory Data Analysis\n",
    "***"
   ]
  },
  {
   "cell_type": "code",
   "execution_count": 18,
   "id": "b734afac",
   "metadata": {},
   "outputs": [],
   "source": [
    "from sklearn.linear_model import LinearRegression\n",
    "\n",
    "df_lrmodel = LinearRegression()\n",
    "df_lrmodel.fit(X_train, y_train)\n",
    "# Predicting the Test set results\n",
    "y_lrpred = df_lrmodel.predict(X_test)"
   ]
  },
  {
   "cell_type": "code",
   "execution_count": 19,
   "id": "8a742475",
   "metadata": {},
   "outputs": [],
   "source": [
    "from sklearn.ensemble import RandomForestRegressor\n",
    "\n",
    "df_rfmodel = RandomForestRegressor(n_estimators=20, random_state = 0)\n",
    "df_rfmodel.fit(X_train, y_train)\n",
    "y_rfpred = df_rfmodel.predict(X_test)"
   ]
  },
  {
   "cell_type": "code",
   "execution_count": 29,
   "id": "ddff67a9",
   "metadata": {},
   "outputs": [
    {
     "data": {
      "application/vnd.jupyter.widget-view+json": {
       "model_id": "fdfebf6cfe074d78baa6b2a2d7c57c10",
       "version_major": 2,
       "version_minor": 0
      },
      "text/plain": [
       "Image(value=b'\\x89PNG\\r\\n\\x1a\\n\\x00\\x00\\x00\\rIHDR\\x00\\x00\\x02-\\x00\\x00\\x02\\x1f\\x08\\x02\\x00\\x00\\x0039{\\x83\\x00\\…"
      ]
     },
     "metadata": {},
     "output_type": "display_data"
    }
   ],
   "source": [
    "# Calculate Adjusted R Squared Value\n",
    "from sklearn import metrics\n",
    "lr_R = metrics.r2_score(y_test,y_rfpred)\n",
    "lr_a_R = 1 - (1-lr_R)*(len(y_test)-1)/(len(y_test)-X_test.shape[1]-1)\n",
    "\n",
    "rf_R = metrics.r2_score(y_test,y_rfpred)\n",
    "rf_a_R = 1 - (1-rf_R)*(len(y_test)-1)/(len(y_test)-X_test.shape[1]-1)\n",
    "\n",
    "file = open(\"correlation.png\", \"rb\")\n",
    "image3 = file.read()\n",
    "correlation= widgets.Image(\n",
    "    value=image3,\n",
    "    format='png',\n",
    "    width='500',\n",
    "    height='400',\n",
    ")\n",
    "correlation\n",
    "\n"
   ]
  },
  {
   "cell_type": "code",
   "execution_count": null,
   "id": "3f808ea5",
   "metadata": {},
   "outputs": [],
   "source": [
    "from sklearn.linear_model import LinearRegression\n",
    "linearRegression = LinearRegression()\n",
    "linearRegression.fit(X_train, y_train)"
   ]
  },
  {
   "cell_type": "code",
   "execution_count": null,
   "id": "6d01dea7",
   "metadata": {},
   "outputs": [],
   "source": [
    "predictionLinear = linearRegression.predict(X_test)"
   ]
  },
  {
   "cell_type": "code",
   "execution_count": null,
   "id": "9d96a92e",
   "metadata": {},
   "outputs": [],
   "source": [
    "from sklearn.metrics import mean_squared_error\n",
    "mseLinear = mean_squared_error(y_test, predictionLinear)\n",
    "print('Root mean squared error (RMSE) from Linear Regression = ')\n",
    "print(mseLinear)"
   ]
  },
  {
   "cell_type": "code",
   "execution_count": null,
   "id": "65955812",
   "metadata": {},
   "outputs": [],
   "source": [
    "from sklearn.tree import DecisionTreeRegressor\n",
    "DTregressor = DecisionTreeRegressor()\n",
    "DTregressor.fit(X_train, y_train)"
   ]
  },
  {
   "cell_type": "code",
   "execution_count": null,
   "id": "8bee9318",
   "metadata": {},
   "outputs": [],
   "source": [
    "predictionRF = RFregressor.predict(X_test)"
   ]
  },
  {
   "cell_type": "code",
   "execution_count": null,
   "id": "946d923f",
   "metadata": {},
   "outputs": [],
   "source": [
    "plt.scatter(X_test_median_income, y_test, color = 'blue')\n",
    "plt.plot (X_train_median_income, \n",
    "          linearRegression2.predict(X_train_median_income), color = 'red')\n",
    "plt.title ('compare Testing result - median_income / median_house_value')\n",
    "plt.xlabel('median_income')\n",
    "plt.ylabel('median_house_value')\n",
    "plt.show()"
   ]
  },
  {
   "cell_type": "code",
   "execution_count": null,
   "id": "b84e3629",
   "metadata": {},
   "outputs": [],
   "source": [
    "from sklearn.ensemble import RandomForestRegressor\n",
    "RFregressor = RandomForestRegressor()\n",
    "RFregressor.fit(X_train, y_train)"
   ]
  },
  {
   "cell_type": "code",
   "execution_count": null,
   "id": "1b25ff30",
   "metadata": {},
   "outputs": [],
   "source": [
    "from sklearn.metrics import mean_squared_error\n",
    "mseDT = mean_squared_error(y_test, predictionDT)\n",
    "print('Root mean squared error from Decision Tree Regression = ')\n",
    "print(mseDT)"
   ]
  },
  {
   "cell_type": "code",
   "execution_count": null,
   "id": "0cd7a7be",
   "metadata": {},
   "outputs": [],
   "source": [
    "predictionDT = DTregressor.predict(X_test)"
   ]
  },
  {
   "cell_type": "code",
   "execution_count": null,
   "id": "e19e4753",
   "metadata": {},
   "outputs": [],
   "source": [
    "X_train_median_income = X_train[: , [7]]\n",
    "X_test_median_income = X_test[: , [7]]"
   ]
  },
  {
   "cell_type": "code",
   "execution_count": null,
   "id": "3b5685b2",
   "metadata": {},
   "outputs": [],
   "source": [
    "from sklearn.linear_model import LinearRegression\n",
    "linearRegression2 = LinearRegression()\n",
    "linearRegression2.fit(X_train_median_income, y_train)"
   ]
  },
  {
   "cell_type": "code",
   "execution_count": null,
   "id": "fcdda179",
   "metadata": {},
   "outputs": [],
   "source": [
    "predictionLinear2 = linearRegression2.predict(X_test_median_income)"
   ]
  },
  {
   "cell_type": "code",
   "execution_count": null,
   "id": "ad044c91",
   "metadata": {},
   "outputs": [],
   "source": [
    "plt.scatter(X_train_median_income, y_train, color = 'green')\n",
    "plt.plot (X_train_median_income, \n",
    "          linearRegression2.predict(X_train_median_income), color = 'red')\n",
    "plt.title ('compare Training result - median_income / median_house_value')\n",
    "plt.xlabel('median_income')\n",
    "plt.ylabel('median_house_value')\n",
    "plt.show()"
   ]
  }
 ],
 "metadata": {
  "kernelspec": {
   "display_name": "Python 3 (ipykernel)",
   "language": "python",
   "name": "python3"
  },
  "language_info": {
   "codemirror_mode": {
    "name": "ipython",
    "version": 3
   },
   "file_extension": ".py",
   "mimetype": "text/x-python",
   "name": "python",
   "nbconvert_exporter": "python",
   "pygments_lexer": "ipython3",
   "version": "3.9.7"
  }
 },
 "nbformat": 4,
 "nbformat_minor": 5
}
